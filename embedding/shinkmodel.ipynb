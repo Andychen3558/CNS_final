{
 "cells": [
  {
   "cell_type": "code",
   "execution_count": 1,
   "metadata": {},
   "outputs": [],
   "source": [
    "import json"
   ]
  },
  {
   "cell_type": "code",
   "execution_count": 2,
   "metadata": {},
   "outputs": [],
   "source": [
    "vecfile = 'wiki.zh.vec'\n",
    "srinkfile = 'nlist.json'\n",
    "smallvecfile = vecfile+'.small'"
   ]
  },
  {
   "cell_type": "code",
   "execution_count": 3,
   "metadata": {},
   "outputs": [],
   "source": [
    "with open(srinkfile, 'r') as f:\n",
    "    nlist = json.load(f)"
   ]
  },
  {
   "cell_type": "code",
   "execution_count": 4,
   "metadata": {},
   "outputs": [],
   "source": [
    "veclist = []\n",
    "with open(vecfile, 'r') as f:\n",
    "    first = True\n",
    "    count = 0\n",
    "    for line in f:\n",
    "        if first:\n",
    "            first = False\n",
    "            continue\n",
    "        words = line.split(' ')[0]\n",
    "        if words in nlist:\n",
    "            veclist.append(line)\n",
    "        count += 1\n",
    "        if len(veclist) >= 10000:\n",
    "            break\n",
    "#         if(count == 1000):\n",
    "#             break"
   ]
  },
  {
   "cell_type": "code",
   "execution_count": 5,
   "metadata": {},
   "outputs": [],
   "source": [
    "with open(smallvecfile, 'w') as f:\n",
    "    print(len(veclist), \"300\", file=f)\n",
    "    for line in veclist:\n",
    "        print(line, file=f, end='')"
   ]
  },
  {
   "cell_type": "code",
   "execution_count": null,
   "metadata": {},
   "outputs": [],
   "source": []
  }
 ],
 "metadata": {
  "kernelspec": {
   "display_name": "Python 3",
   "language": "python",
   "name": "python3"
  },
  "language_info": {
   "codemirror_mode": {
    "name": "ipython",
    "version": 3
   },
   "file_extension": ".py",
   "mimetype": "text/x-python",
   "name": "python",
   "nbconvert_exporter": "python",
   "pygments_lexer": "ipython3",
   "version": "3.6.8"
  }
 },
 "nbformat": 4,
 "nbformat_minor": 2
}
