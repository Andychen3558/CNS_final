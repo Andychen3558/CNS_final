{
 "cells": [
  {
   "cell_type": "code",
   "execution_count": 1,
   "metadata": {},
   "outputs": [],
   "source": [
    "import gensim\n",
    "import random\n",
    "import json\n",
    "from request_img import get_img"
   ]
  },
  {
   "cell_type": "code",
   "execution_count": 2,
   "metadata": {},
   "outputs": [],
   "source": [
    "class Embedding():\n",
    "    def __init__(self, wordfile, cache_url=None):\n",
    "        self.model = gensim.models.KeyedVectors.load_word2vec_format(wordfile)\n",
    "        if cache_url:\n",
    "            with open(cache_url, 'r') as f:\n",
    "                self.cache_url = json.load(f)\n",
    "        else:\n",
    "            self.cache_url = {}\n",
    "        self.postopn = 50 # choise topn of positive words\n",
    "        self.posrann = 2 # sample n from above\n",
    "        self.posmask = 5 # avoid topn\n",
    "        self.negtopn = 100 # choise topn of negative words\n",
    "        self.negrann = 4 # sample n from above\n",
    "        self.optionn = 9 # total choice num\n",
    "        \n",
    "    def invocab(self, word):\n",
    "        return word in self.model.vocab\n",
    "    \n",
    "    def get_options(self, word):\n",
    "        \n",
    "        # check word exists in vocab\n",
    "        if not self.invocab(word):\n",
    "            return None\n",
    "        \n",
    "        # select positive keys\n",
    "        high = self.model.most_similar(positive=[word], topn=self.postopn)\n",
    "        highkeys = [high[i][0] for i in range(self.posmask, self.postopn)]\n",
    "        choice = random.sample(highkeys, self.posrann)\n",
    "\n",
    "        # select negative keys\n",
    "        neg = self.model.most_similar(negative=[word], topn=self.negtopn)\n",
    "        negkeys = [neg[i][0] for i in range(self.negtopn)]\n",
    "        choice.extend(random.sample(negkeys, self.negrann))\n",
    "        \n",
    "        # random select keys\n",
    "        keys = self.model.vocab.keys()\n",
    "        otherkeys = random.sample(keys, self.optionn-self.posrann-self.negrann)\n",
    "        choice.extend(otherkeys)\n",
    "        \n",
    "        #shuffel keys\n",
    "        random.shuffle(choice)\n",
    "        \n",
    "        choice_dic = {}\n",
    "        \n",
    "        for i in choice:\n",
    "            choice_dic[i] = {\n",
    "                \"url\": self.cache_url[i] if i in self.cache_url else get_img(i),\n",
    "                \"score\": self.model.similarity(word, i),\n",
    "                \"name\": i\n",
    "            }\n",
    "            \n",
    "        return choice_dic\n",
    "    \n",
    "    def similarity(self, w1, w2):\n",
    "        if not self.invocab(w1) or not self.invocab(w2):\n",
    "            return None\n",
    "        return self.model.similarity(w1, w2)\n",
    "# gensim example:          \n",
    "# sim = m.model.most_similar(positive=['貴族', '女人'], negative=['男人'], topn=1000)\n",
    "# sim = [(i,m.model.vocab[i[0]].count) for i in sim]\n",
    "\n",
    "# m.model.similarity('大量', '分類')\n",
    "\n",
    "# m.model.doesnt_match('歌手')"
   ]
  },
  {
   "cell_type": "code",
   "execution_count": 3,
   "metadata": {},
   "outputs": [],
   "source": [
    "# m = Embedding('wiki.en.vec.small')"
   ]
  },
  {
   "cell_type": "code",
   "execution_count": 4,
   "metadata": {},
   "outputs": [
    {
     "name": "stdout",
     "output_type": "stream",
     "text": [
      "{'converts': {'url': 'https://encrypted-tbn0.gstatic.com/images?q=tbn:ANd9GcSvt5ZIuf-gyk9paibEg9md42cFL9fSQnI8Niy94gM3QJnwuz2s', 'score': 0.002942441380619139, 'name': 'converts'}, 'magpie': {'url': 'https://encrypted-tbn0.gstatic.com/images?q=tbn:ANd9GcSudP2eN_MLADKY4SweBGlin6BoXepkCeDr4ktO6InPPgOMXR86Xw', 'score': 0.5544420176237213, 'name': 'magpie'}, 'rlfc': {'url': 'https://encrypted-tbn0.gstatic.com/images?q=tbn:ANd9GcT52Q3Nfq-x86_IuMVGVCkw48J9tLPJ95h_x4KYyvSRGWj63Scp', 'score': 0.020485037630606415, 'name': 'rlfc'}, 'boilermakers': {'url': 'https://encrypted-tbn0.gstatic.com/images?q=tbn:ANd9GcQrqvqT0_SsQExHtEhGB_9Mf_m1rdjf6qwTKOT26Rm-vDvxq7hs', 'score': 0.11973190022905951, 'name': 'boilermakers'}, 'tribunals': {'url': 'https://encrypted-tbn0.gstatic.com/images?q=tbn:ANd9GcQomVAUQivEoRRAvCmofpArI7ZjImT-2KLPhfNB0WNOuv1_7c9o', 'score': 0.01906958710277818, 'name': 'tribunals'}, 'magnificent': {'url': 'https://encrypted-tbn0.gstatic.com/images?q=tbn:ANd9GcScteklQYqDaYDEsvfTsQBTbjjBeK5lU5MPrsfwmdkKLAODDV_j', 'score': 0.2656835631355806, 'name': 'magnificent'}, 'turtle': {'url': 'https://encrypted-tbn0.gstatic.com/images?q=tbn:ANd9GcSVtzVy3DwHWdxWkX5H-lwR25BVQwaZAqT7rSMdN_00F4ciabSa3w', 'score': 0.5227148854635405, 'name': 'turtle'}, 'bypasses': {'url': 'https://encrypted-tbn0.gstatic.com/images?q=tbn:ANd9GcTG7VIqMINQoFwptlaZ9xRui-aCH-Ny_DEyILBpZyILenphRQCQcA', 'score': 0.021056535893338387, 'name': 'bypasses'}, 'summarizes': {'url': 'https://encrypted-tbn0.gstatic.com/images?q=tbn:ANd9GcR_97L2S4J_vpKWQ8tsM86qupPzy5tNfdKo547IxOROZE8mAf3N', 'score': 0.1007934437075878, 'name': 'summarizes'}}\n"
     ]
    }
   ],
   "source": [
    "# print(m.get_options('bird'))"
   ]
  },
  {
   "cell_type": "code",
   "execution_count": 11,
   "metadata": {},
   "outputs": [
    {
     "data": {
      "text/plain": [
       "28477"
      ]
     },
     "execution_count": 11,
     "metadata": {},
     "output_type": "execute_result"
    }
   ],
   "source": [
    "# m.model.vocab['bird'].count"
   ]
  },
  {
   "cell_type": "code",
   "execution_count": 5,
   "metadata": {},
   "outputs": [
    {
     "data": {
      "text/plain": [
       "0.3866276199754389"
      ]
     },
     "execution_count": 5,
     "metadata": {},
     "output_type": "execute_result"
    }
   ],
   "source": [
    "# m.similarity('bird', 'tree')"
   ]
  },
  {
   "cell_type": "code",
   "execution_count": null,
   "metadata": {},
   "outputs": [],
   "source": []
  }
 ],
 "metadata": {
  "kernelspec": {
   "display_name": "Python 3",
   "language": "python",
   "name": "python3"
  },
  "language_info": {
   "codemirror_mode": {
    "name": "ipython",
    "version": 3
   },
   "file_extension": ".py",
   "mimetype": "text/x-python",
   "name": "python",
   "nbconvert_exporter": "python",
   "pygments_lexer": "ipython3",
   "version": "3.6.8"
  }
 },
 "nbformat": 4,
 "nbformat_minor": 2
}
