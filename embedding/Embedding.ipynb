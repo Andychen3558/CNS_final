{
 "cells": [
  {
   "cell_type": "code",
   "execution_count": 15,
   "metadata": {},
   "outputs": [],
   "source": [
    "import gensim\n",
    "import random\n",
    "from request_img import get_img"
   ]
  },
  {
   "cell_type": "code",
   "execution_count": 16,
   "metadata": {},
   "outputs": [],
   "source": [
    "class Embedding():\n",
    "    def __init__(self, wordfile):\n",
    "        self.model = gensim.models.KeyedVectors.load_word2vec_format(wordfile)\n",
    "        self.postopn = 50 # choise topn of positive words\n",
    "        self.posrann = 2 # sample n from above\n",
    "        self.posmask = 5 # avoid topn\n",
    "        self.negtopn = 100 # choise topn of negative words\n",
    "        self.negrann = 4 # sample n from above\n",
    "        self.optionn = 9 # total choice num\n",
    "        \n",
    "    def invocab(self, word):\n",
    "        return word in self.model.vocab\n",
    "    \n",
    "    def get_options(self, word):\n",
    "        \n",
    "        # check word exists in vocab\n",
    "        if not self.invocab(word):\n",
    "            return None\n",
    "        \n",
    "        # select positive keys\n",
    "        high = self.model.most_similar(positive=[word], topn=self.postopn)\n",
    "        highkeys = [high[i][0] for i in range(self.posmask, self.postopn)]\n",
    "        choice = random.sample(highkeys, self.posrann)\n",
    "\n",
    "        # select negative keys\n",
    "        neg = self.model.most_similar(negative=[word], topn=self.negtopn)\n",
    "        negkeys = [neg[i][0] for i in range(self.negtopn)]\n",
    "        choice.extend(random.sample(negkeys, self.negrann))\n",
    "        \n",
    "        # random select keys\n",
    "        keys = self.model.vocab.keys()\n",
    "        otherkeys = random.sample(keys, self.optionn-self.posrann-self.negrann)\n",
    "        choice.extend(otherkeys)\n",
    "        \n",
    "        #shuffel keys\n",
    "        random.shuffle(choice)\n",
    "        \n",
    "        choice_dic = {}\n",
    "        for i in choice:\n",
    "            choice_dic[i] = {\n",
    "                \"url\": get_img(i),\n",
    "                \"score\": self.model.similarity(word, i),\n",
    "                \"name\": i\n",
    "            }\n",
    "            \n",
    "        return choice_dic\n",
    "    \n",
    "# gensim example:          \n",
    "# sim = m.model.most_similar(positive=['貴族', '女人'], negative=['男人'], topn=1000)\n",
    "# sim = [(i,m.model.vocab[i[0]].count) for i in sim]\n",
    "\n",
    "# m.model.similarity('大量', '分類')\n",
    "\n",
    "# m.model.doesnt_match('歌手')"
   ]
  },
  {
   "cell_type": "code",
   "execution_count": 17,
   "metadata": {},
   "outputs": [],
   "source": [
    "# m = Embedding('wiki.zh.vec.small')"
   ]
  },
  {
   "cell_type": "code",
   "execution_count": 18,
   "metadata": {},
   "outputs": [
    {
     "name": "stdout",
     "output_type": "stream",
     "text": [
      "{'夹竹桃': {'url': 'https://encrypted-tbn0.gstatic.com/images?q=tbn:ANd9GcSEOS4F8WD16klg8Yf9KwXn3eZj_CX_3k-zkkJ0GEAp1-FJRgWgWQ', 'score': 0.7006674136307907, 'name': '夹竹桃'}, '樂': {'url': 'https://encrypted-tbn0.gstatic.com/images?q=tbn:ANd9GcR99o45DLcCSjhejP-EWDUs-GLqujbChGKo9FoLvIl7jK-yKz44-A', 'score': 0.9355708511325584, 'name': '樂'}, '氢原子': {'url': 'https://encrypted-tbn0.gstatic.com/images?q=tbn:ANd9GcQzei1b9aMw5oBfz6ndwylBNU4QKzIVanPfj0ILf3xDbTKSADFa', 'score': 0.7394501812162106, 'name': '氢原子'}, '圖表': {'url': 'https://encrypted-tbn0.gstatic.com/images?q=tbn:ANd9GcRLY35uFT3QYbQqkTWG6YZ4M4l-e1rpwK_L6bYMuqNU8q2PZ4ukxw', 'score': 0.893490124786251, 'name': '圖表'}, '旋風': {'url': 'https://encrypted-tbn0.gstatic.com/images?q=tbn:ANd9GcRDze1TlZZ_20FrZ8-b0TxX3WBRpUWds0C4HrmZyJa3rAsGCpmuEQ', 'score': 0.887375306219386, 'name': '旋風'}, '识字率': {'url': 'https://encrypted-tbn0.gstatic.com/images?q=tbn:ANd9GcTPuXQuCVT6WC15HE98_CR3TTe1E5u2HAYL4VSniEG7xS7Cc3tZTQ', 'score': 0.6680529881060497, 'name': '识字率'}, '错别字': {'url': 'https://encrypted-tbn0.gstatic.com/images?q=tbn:ANd9GcQyyrROFNlWKnd284y-AF6xwNNiOb5PjPY24qsX5kX-0mlHEgo8', 'score': 0.7342053165973086, 'name': '错别字'}, '電影': {'url': 'https://encrypted-tbn0.gstatic.com/images?q=tbn:ANd9GcSOMcaAy5kyCAvgRfNnuTh0kkGVrs4xFT89r_LwRLOE4az__NtRbA', 'score': 0.9350708575203593, 'name': '電影'}, '魔术': {'url': 'https://encrypted-tbn0.gstatic.com/images?q=tbn:ANd9GcSL7hEsaFe5w8SJlETtS5umm0WtusS4tF_Y7VIGb8YOqVcuVtUkdw', 'score': 0.8669630986630823, 'name': '魔术'}}\n"
     ]
    }
   ],
   "source": [
    "# print(m.get_options('音樂'))"
   ]
  }
 ],
 "metadata": {
  "kernelspec": {
   "display_name": "Python 3",
   "language": "python",
   "name": "python3"
  },
  "language_info": {
   "codemirror_mode": {
    "name": "ipython",
    "version": 3
   },
   "file_extension": ".py",
   "mimetype": "text/x-python",
   "name": "python",
   "nbconvert_exporter": "python",
   "pygments_lexer": "ipython3",
   "version": "3.6.8"
  }
 },
 "nbformat": 4,
 "nbformat_minor": 2
}
