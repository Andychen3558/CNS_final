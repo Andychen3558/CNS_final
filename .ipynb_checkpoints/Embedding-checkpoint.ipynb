{
 "cells": [
  {
   "cell_type": "code",
   "execution_count": 49,
   "metadata": {},
   "outputs": [],
   "source": [
    "import gensim\n",
    "import random"
   ]
  },
  {
   "cell_type": "code",
   "execution_count": 50,
   "metadata": {},
   "outputs": [],
   "source": [
    "class Embedding():\n",
    "    def __init__(self, wordfile):\n",
    "        self.model = gensim.models.KeyedVectors.load_word2vec_format(wordfile)\n",
    "        \n",
    "    def invocab(self, text):\n",
    "        return text in self.model.vocab\n",
    "    \n",
    "    def sample(self, n=9):\n",
    "        s = {}\n",
    "        for i in range(n):\n",
    "            print(self.model.vocab[rand])"
   ]
  },
  {
   "cell_type": "code",
   "execution_count": 51,
   "metadata": {},
   "outputs": [],
   "source": [
    "m = Embedding('wiki.zh.vec')"
   ]
  }
 ],
 "metadata": {
  "kernelspec": {
   "display_name": "Python 3",
   "language": "python",
   "name": "python3"
  },
  "language_info": {
   "codemirror_mode": {
    "name": "ipython",
    "version": 3
   },
   "file_extension": ".py",
   "mimetype": "text/x-python",
   "name": "python",
   "nbconvert_exporter": "python",
   "pygments_lexer": "ipython3",
   "version": "3.6.8"
  }
 },
 "nbformat": 4,
 "nbformat_minor": 2
}
